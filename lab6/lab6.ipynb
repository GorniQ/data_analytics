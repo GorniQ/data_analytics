{
 "cells": [
  {
   "cell_type": "code",
   "execution_count": 55,
   "metadata": {},
   "outputs": [],
   "source": [
    "import numpy as np\n",
    "import arviz as az\n",
    "import matplotlib.pyplot as plt\n",
    "import pandas as pd\n",
    "import scipy.stats as stats\n",
    "import cmdstanpy\n",
    "from cmdstanpy import CmdStanModel"
   ]
  },
  {
   "attachments": {},
   "cell_type": "markdown",
   "metadata": {},
   "source": [
    "# Excercise 1 - generate data"
   ]
  },
  {
   "cell_type": "code",
   "execution_count": 56,
   "metadata": {},
   "outputs": [
    {
     "data": {
      "text/plain": [
       "(6, 6, 1200)"
      ]
     },
     "execution_count": 56,
     "metadata": {},
     "output_type": "execute_result"
    }
   ],
   "source": [
    "F = len('Maciej')\n",
    "L = len('Gornik')\n",
    "N = (L + F) * 100\n",
    "F, L, N"
   ]
  },
  {
   "cell_type": "code",
   "execution_count": 57,
   "metadata": {},
   "outputs": [],
   "source": [
    "model_1 = CmdStanModel(stan_file='/home/lab6/code_1.stan')"
   ]
  },
  {
   "cell_type": "code",
   "execution_count": 58,
   "metadata": {},
   "outputs": [
    {
     "name": "stderr",
     "output_type": "stream",
     "text": [
      "09:49:07 - cmdstanpy - INFO - CmdStan start processing\n",
      "chain 1 |\u001b[34m██████████\u001b[0m| 00:00 Sampling completed"
     ]
    },
    {
     "name": "stdout",
     "output_type": "stream",
     "text": [
      "                                                                                "
     ]
    },
    {
     "name": "stderr",
     "output_type": "stream",
     "text": [
      "\n",
      "09:49:07 - cmdstanpy - INFO - CmdStan done processing.\n"
     ]
    },
    {
     "name": "stdout",
     "output_type": "stream",
     "text": [
      "\n"
     ]
    }
   ],
   "source": [
    "R = 1\n",
    "sim_1=model_1.sample(data={'N': N}, \n",
    "                     iter_sampling=R, \n",
    "                     iter_warmup=0, \n",
    "                     chains=1, \n",
    "                     refresh=R,\n",
    "                     fixed_param=True,\n",
    "                     seed=29042020)"
   ]
  },
  {
   "cell_type": "code",
   "execution_count": 59,
   "metadata": {},
   "outputs": [
    {
     "data": {
      "text/html": [
       "<div>\n",
       "<style scoped>\n",
       "    .dataframe tbody tr th:only-of-type {\n",
       "        vertical-align: middle;\n",
       "    }\n",
       "\n",
       "    .dataframe tbody tr th {\n",
       "        vertical-align: top;\n",
       "    }\n",
       "\n",
       "    .dataframe thead th {\n",
       "        text-align: right;\n",
       "    }\n",
       "</style>\n",
       "<table border=\"1\" class=\"dataframe\">\n",
       "  <thead>\n",
       "    <tr style=\"text-align: right;\">\n",
       "      <th></th>\n",
       "      <th>lp__</th>\n",
       "      <th>accept_stat__</th>\n",
       "      <th>theta</th>\n",
       "      <th>y[1]</th>\n",
       "      <th>y[2]</th>\n",
       "      <th>y[3]</th>\n",
       "      <th>y[4]</th>\n",
       "      <th>y[5]</th>\n",
       "      <th>y[6]</th>\n",
       "      <th>y[7]</th>\n",
       "      <th>...</th>\n",
       "      <th>y[1191]</th>\n",
       "      <th>y[1192]</th>\n",
       "      <th>y[1193]</th>\n",
       "      <th>y[1194]</th>\n",
       "      <th>y[1195]</th>\n",
       "      <th>y[1196]</th>\n",
       "      <th>y[1197]</th>\n",
       "      <th>y[1198]</th>\n",
       "      <th>y[1199]</th>\n",
       "      <th>y[1200]</th>\n",
       "    </tr>\n",
       "  </thead>\n",
       "  <tbody>\n",
       "    <tr>\n",
       "      <th>0</th>\n",
       "      <td>0.0</td>\n",
       "      <td>0.0</td>\n",
       "      <td>0.01</td>\n",
       "      <td>-0.424502</td>\n",
       "      <td>-0.063661</td>\n",
       "      <td>-0.833885</td>\n",
       "      <td>1.55158</td>\n",
       "      <td>-0.362245</td>\n",
       "      <td>0.743487</td>\n",
       "      <td>0.970844</td>\n",
       "      <td>...</td>\n",
       "      <td>-0.17927</td>\n",
       "      <td>-0.715089</td>\n",
       "      <td>-1.7273</td>\n",
       "      <td>-0.404984</td>\n",
       "      <td>1.08221</td>\n",
       "      <td>-1.00288</td>\n",
       "      <td>-1.35285</td>\n",
       "      <td>0.922614</td>\n",
       "      <td>-1.20906</td>\n",
       "      <td>-0.049961</td>\n",
       "    </tr>\n",
       "  </tbody>\n",
       "</table>\n",
       "<p>1 rows × 1203 columns</p>\n",
       "</div>"
      ],
      "text/plain": [
       "   lp__  accept_stat__  theta      y[1]      y[2]      y[3]     y[4]  \\\n",
       "0   0.0            0.0   0.01 -0.424502 -0.063661 -0.833885  1.55158   \n",
       "\n",
       "       y[5]      y[6]      y[7]  ...  y[1191]   y[1192]  y[1193]   y[1194]  \\\n",
       "0 -0.362245  0.743487  0.970844  ... -0.17927 -0.715089  -1.7273 -0.404984   \n",
       "\n",
       "   y[1195]  y[1196]  y[1197]   y[1198]  y[1199]   y[1200]  \n",
       "0  1.08221 -1.00288 -1.35285  0.922614 -1.20906 -0.049961  \n",
       "\n",
       "[1 rows x 1203 columns]"
      ]
     },
     "execution_count": 59,
     "metadata": {},
     "output_type": "execute_result"
    }
   ],
   "source": [
    "df_1 = sim_1.draws_pd()\n",
    "df_1.head()"
   ]
  },
  {
   "cell_type": "code",
   "execution_count": 60,
   "metadata": {},
   "outputs": [],
   "source": [
    "model_2 = CmdStanModel(stan_file='/home/lab6/code_2.stan')"
   ]
  },
  {
   "cell_type": "code",
   "execution_count": 61,
   "metadata": {},
   "outputs": [
    {
     "name": "stderr",
     "output_type": "stream",
     "text": [
      "09:49:08 - cmdstanpy - INFO - CmdStan start processing\n",
      "chain 1 |\u001b[34m██████████\u001b[0m| 00:00 Sampling completed"
     ]
    },
    {
     "name": "stdout",
     "output_type": "stream",
     "text": [
      "                                                                                "
     ]
    },
    {
     "name": "stderr",
     "output_type": "stream",
     "text": [
      "\n",
      "09:49:08 - cmdstanpy - INFO - CmdStan done processing.\n"
     ]
    },
    {
     "name": "stdout",
     "output_type": "stream",
     "text": [
      "\n"
     ]
    }
   ],
   "source": [
    "R = 1\n",
    "sim_2=model_2.sample(data={'N': N}, \n",
    "                     iter_sampling=R, \n",
    "                     iter_warmup=0, \n",
    "                     chains=1, \n",
    "                     refresh=R,\n",
    "                     fixed_param=True,\n",
    "                     seed=29042020)"
   ]
  },
  {
   "cell_type": "code",
   "execution_count": 62,
   "metadata": {},
   "outputs": [
    {
     "data": {
      "text/html": [
       "<div>\n",
       "<style scoped>\n",
       "    .dataframe tbody tr th:only-of-type {\n",
       "        vertical-align: middle;\n",
       "    }\n",
       "\n",
       "    .dataframe tbody tr th {\n",
       "        vertical-align: top;\n",
       "    }\n",
       "\n",
       "    .dataframe thead th {\n",
       "        text-align: right;\n",
       "    }\n",
       "</style>\n",
       "<table border=\"1\" class=\"dataframe\">\n",
       "  <thead>\n",
       "    <tr style=\"text-align: right;\">\n",
       "      <th></th>\n",
       "      <th>lp__</th>\n",
       "      <th>accept_stat__</th>\n",
       "      <th>X[1,1]</th>\n",
       "      <th>X[2,1]</th>\n",
       "      <th>X[3,1]</th>\n",
       "      <th>X[4,1]</th>\n",
       "      <th>X[5,1]</th>\n",
       "      <th>X[6,1]</th>\n",
       "      <th>X[7,1]</th>\n",
       "      <th>X[8,1]</th>\n",
       "      <th>...</th>\n",
       "      <th>y[1191]</th>\n",
       "      <th>y[1192]</th>\n",
       "      <th>y[1193]</th>\n",
       "      <th>y[1194]</th>\n",
       "      <th>y[1195]</th>\n",
       "      <th>y[1196]</th>\n",
       "      <th>y[1197]</th>\n",
       "      <th>y[1198]</th>\n",
       "      <th>y[1199]</th>\n",
       "      <th>y[1200]</th>\n",
       "    </tr>\n",
       "  </thead>\n",
       "  <tbody>\n",
       "    <tr>\n",
       "      <th>0</th>\n",
       "      <td>0.0</td>\n",
       "      <td>0.0</td>\n",
       "      <td>2.70817</td>\n",
       "      <td>0.777181</td>\n",
       "      <td>-1.27227</td>\n",
       "      <td>0.127591</td>\n",
       "      <td>-1.38942</td>\n",
       "      <td>0.246162</td>\n",
       "      <td>1.19873</td>\n",
       "      <td>2.26533</td>\n",
       "      <td>...</td>\n",
       "      <td>-1.73839</td>\n",
       "      <td>5.82632</td>\n",
       "      <td>0.467584</td>\n",
       "      <td>5.68971</td>\n",
       "      <td>1.48844</td>\n",
       "      <td>-1.80466</td>\n",
       "      <td>-2.98097</td>\n",
       "      <td>2.59505</td>\n",
       "      <td>-3.23928</td>\n",
       "      <td>1.37315</td>\n",
       "    </tr>\n",
       "  </tbody>\n",
       "</table>\n",
       "<p>1 rows × 4805 columns</p>\n",
       "</div>"
      ],
      "text/plain": [
       "   lp__  accept_stat__   X[1,1]    X[2,1]   X[3,1]    X[4,1]   X[5,1]  \\\n",
       "0   0.0            0.0  2.70817  0.777181 -1.27227  0.127591 -1.38942   \n",
       "\n",
       "     X[6,1]   X[7,1]   X[8,1]  ...  y[1191]  y[1192]   y[1193]  y[1194]  \\\n",
       "0  0.246162  1.19873  2.26533  ... -1.73839  5.82632  0.467584  5.68971   \n",
       "\n",
       "   y[1195]  y[1196]  y[1197]  y[1198]  y[1199]  y[1200]  \n",
       "0  1.48844 -1.80466 -2.98097  2.59505 -3.23928  1.37315  \n",
       "\n",
       "[1 rows x 4805 columns]"
      ]
     },
     "execution_count": 62,
     "metadata": {},
     "output_type": "execute_result"
    }
   ],
   "source": [
    "df_2 = sim_2.draws_pd()\n",
    "df_2.head()"
   ]
  },
  {
   "attachments": {},
   "cell_type": "markdown",
   "metadata": {},
   "source": [
    "# Excercise 2 - compare normal and student models for data from first file"
   ]
  },
  {
   "cell_type": "code",
   "execution_count": 63,
   "metadata": {},
   "outputs": [],
   "source": [
    "model_3=CmdStanModel(stan_file='code_3.stan')"
   ]
  },
  {
   "cell_type": "code",
   "execution_count": 64,
   "metadata": {},
   "outputs": [
    {
     "name": "stderr",
     "output_type": "stream",
     "text": [
      "09:49:08 - cmdstanpy - INFO - CmdStan start processing\n",
      "chain 1 |\u001b[33m          \u001b[0m| 00:00 Status\n",
      "\u001b[A\n",
      "\n",
      "\u001b[A\u001b[A\n",
      "\u001b[A\n",
      "\n",
      "chain 1 |\u001b[33m▍         \u001b[0m| 00:00 Status\n",
      "\n",
      "chain 1 |\u001b[34m█████▉    \u001b[0m| 00:00 Iteration: 1001 / 2000 [ 50%]  (Sampling)\n",
      "chain 1 |\u001b[34m███████▎  \u001b[0m| 00:00 Iteration: 1300 / 2000 [ 65%]  (Sampling)\n",
      "\u001b[A\n",
      "\n",
      "chain 1 |\u001b[34m████████▏ \u001b[0m| 00:01 Iteration: 1500 / 2000 [ 75%]  (Sampling)\n",
      "\u001b[A\n",
      "\n",
      "\u001b[A\u001b[A\n",
      "chain 1 |\u001b[34m█████████ \u001b[0m| 00:01 Iteration: 1700 / 2000 [ 85%]  (Sampling)\n",
      "\n",
      "\u001b[A\u001b[A\n",
      "chain 1 |\u001b[34m██████████\u001b[0m| 00:01 Sampling completed                       \n",
      "chain 2 |\u001b[34m██████████\u001b[0m| 00:01 Sampling completed                       \n",
      "chain 3 |\u001b[34m██████████\u001b[0m| 00:01 Sampling completed                       \n",
      "chain 4 |\u001b[34m██████████\u001b[0m| 00:01 Sampling completed                       "
     ]
    },
    {
     "name": "stdout",
     "output_type": "stream",
     "text": [
      "                                                                                                                                                                                                                                                                                                                                "
     ]
    },
    {
     "name": "stderr",
     "output_type": "stream",
     "text": [
      "\n",
      "09:49:10 - cmdstanpy - INFO - CmdStan done processing.\n",
      "09:49:10 - cmdstanpy - WARNING - Non-fatal error during sampling:\n",
      "Exception: normal_lpdf: Scale parameter is 0, but must be positive! (in '/home/lab6/code_3.stan', line 13, column 3 to column 40)\n",
      "\tException: normal_lpdf: Scale parameter is 0, but must be positive! (in '/home/lab6/code_3.stan', line 13, column 3 to column 40)\n",
      "Exception: normal_lpdf: Scale parameter is 0, but must be positive! (in '/home/lab6/code_3.stan', line 13, column 3 to column 40)\n",
      "\tException: normal_lpdf: Scale parameter is 0, but must be positive! (in '/home/lab6/code_3.stan', line 13, column 3 to column 40)\n",
      "Consider re-running with show_console=True if the above output is unclear!\n"
     ]
    },
    {
     "name": "stdout",
     "output_type": "stream",
     "text": [
      "\n"
     ]
    }
   ],
   "source": [
    "dm_1 = df_1.iloc[0, 3:]\n",
    "sim_3=model_3.sample(data={'N': N, 'y': dm_1})"
   ]
  },
  {
   "cell_type": "code",
   "execution_count": 65,
   "metadata": {},
   "outputs": [
    {
     "data": {
      "text/html": [
       "<div>\n",
       "<style scoped>\n",
       "    .dataframe tbody tr th:only-of-type {\n",
       "        vertical-align: middle;\n",
       "    }\n",
       "\n",
       "    .dataframe tbody tr th {\n",
       "        vertical-align: top;\n",
       "    }\n",
       "\n",
       "    .dataframe thead th {\n",
       "        text-align: right;\n",
       "    }\n",
       "</style>\n",
       "<table border=\"1\" class=\"dataframe\">\n",
       "  <thead>\n",
       "    <tr style=\"text-align: right;\">\n",
       "      <th></th>\n",
       "      <th>lp__</th>\n",
       "      <th>accept_stat__</th>\n",
       "      <th>stepsize__</th>\n",
       "      <th>treedepth__</th>\n",
       "      <th>n_leapfrog__</th>\n",
       "      <th>divergent__</th>\n",
       "      <th>energy__</th>\n",
       "      <th>sigma</th>\n",
       "      <th>mu</th>\n",
       "      <th>log_lik[1]</th>\n",
       "      <th>...</th>\n",
       "      <th>y_hat[1191]</th>\n",
       "      <th>y_hat[1192]</th>\n",
       "      <th>y_hat[1193]</th>\n",
       "      <th>y_hat[1194]</th>\n",
       "      <th>y_hat[1195]</th>\n",
       "      <th>y_hat[1196]</th>\n",
       "      <th>y_hat[1197]</th>\n",
       "      <th>y_hat[1198]</th>\n",
       "      <th>y_hat[1199]</th>\n",
       "      <th>y_hat[1200]</th>\n",
       "    </tr>\n",
       "  </thead>\n",
       "  <tbody>\n",
       "    <tr>\n",
       "      <th>0</th>\n",
       "      <td>-2182.69</td>\n",
       "      <td>0.926001</td>\n",
       "      <td>0.781155</td>\n",
       "      <td>1.0</td>\n",
       "      <td>1.0</td>\n",
       "      <td>0.0</td>\n",
       "      <td>2183.08</td>\n",
       "      <td>1.43620</td>\n",
       "      <td>0.012857</td>\n",
       "      <td>-1.32730</td>\n",
       "      <td>...</td>\n",
       "      <td>0.806833</td>\n",
       "      <td>2.162890</td>\n",
       "      <td>1.020680</td>\n",
       "      <td>-2.604340</td>\n",
       "      <td>-3.618400</td>\n",
       "      <td>1.110280</td>\n",
       "      <td>0.526669</td>\n",
       "      <td>3.215220</td>\n",
       "      <td>0.077358</td>\n",
       "      <td>0.510208</td>\n",
       "    </tr>\n",
       "    <tr>\n",
       "      <th>1</th>\n",
       "      <td>-2180.50</td>\n",
       "      <td>0.970977</td>\n",
       "      <td>0.781155</td>\n",
       "      <td>3.0</td>\n",
       "      <td>7.0</td>\n",
       "      <td>0.0</td>\n",
       "      <td>2183.98</td>\n",
       "      <td>1.53422</td>\n",
       "      <td>0.118712</td>\n",
       "      <td>-1.40964</td>\n",
       "      <td>...</td>\n",
       "      <td>-0.141566</td>\n",
       "      <td>-0.318323</td>\n",
       "      <td>-0.541754</td>\n",
       "      <td>-0.763301</td>\n",
       "      <td>1.131260</td>\n",
       "      <td>-0.031313</td>\n",
       "      <td>0.578774</td>\n",
       "      <td>-2.244950</td>\n",
       "      <td>-2.109740</td>\n",
       "      <td>1.266810</td>\n",
       "    </tr>\n",
       "    <tr>\n",
       "      <th>2</th>\n",
       "      <td>-2179.49</td>\n",
       "      <td>0.974706</td>\n",
       "      <td>0.781155</td>\n",
       "      <td>3.0</td>\n",
       "      <td>7.0</td>\n",
       "      <td>0.0</td>\n",
       "      <td>2181.22</td>\n",
       "      <td>1.48874</td>\n",
       "      <td>0.064141</td>\n",
       "      <td>-1.37073</td>\n",
       "      <td>...</td>\n",
       "      <td>-1.536190</td>\n",
       "      <td>0.569717</td>\n",
       "      <td>1.217000</td>\n",
       "      <td>0.850725</td>\n",
       "      <td>0.299722</td>\n",
       "      <td>0.510875</td>\n",
       "      <td>-1.408390</td>\n",
       "      <td>0.705075</td>\n",
       "      <td>-0.033673</td>\n",
       "      <td>0.101903</td>\n",
       "    </tr>\n",
       "    <tr>\n",
       "      <th>3</th>\n",
       "      <td>-2181.24</td>\n",
       "      <td>0.671014</td>\n",
       "      <td>0.781155</td>\n",
       "      <td>2.0</td>\n",
       "      <td>3.0</td>\n",
       "      <td>0.0</td>\n",
       "      <td>2183.64</td>\n",
       "      <td>1.52154</td>\n",
       "      <td>0.023368</td>\n",
       "      <td>-1.38198</td>\n",
       "      <td>...</td>\n",
       "      <td>-0.549010</td>\n",
       "      <td>-0.575873</td>\n",
       "      <td>-0.055582</td>\n",
       "      <td>1.728400</td>\n",
       "      <td>-0.996328</td>\n",
       "      <td>1.696850</td>\n",
       "      <td>-2.055870</td>\n",
       "      <td>2.371710</td>\n",
       "      <td>-1.459010</td>\n",
       "      <td>1.172530</td>\n",
       "    </tr>\n",
       "    <tr>\n",
       "      <th>4</th>\n",
       "      <td>-2179.51</td>\n",
       "      <td>1.000000</td>\n",
       "      <td>0.781155</td>\n",
       "      <td>2.0</td>\n",
       "      <td>3.0</td>\n",
       "      <td>0.0</td>\n",
       "      <td>2181.18</td>\n",
       "      <td>1.50615</td>\n",
       "      <td>0.076652</td>\n",
       "      <td>-1.38385</td>\n",
       "      <td>...</td>\n",
       "      <td>0.699873</td>\n",
       "      <td>-1.304270</td>\n",
       "      <td>-0.656443</td>\n",
       "      <td>1.263340</td>\n",
       "      <td>1.609830</td>\n",
       "      <td>2.373350</td>\n",
       "      <td>-0.171663</td>\n",
       "      <td>0.522836</td>\n",
       "      <td>-0.934050</td>\n",
       "      <td>-0.435338</td>\n",
       "    </tr>\n",
       "  </tbody>\n",
       "</table>\n",
       "<p>5 rows × 2409 columns</p>\n",
       "</div>"
      ],
      "text/plain": [
       "      lp__  accept_stat__  stepsize__  treedepth__  n_leapfrog__  divergent__  \\\n",
       "0 -2182.69       0.926001    0.781155          1.0           1.0          0.0   \n",
       "1 -2180.50       0.970977    0.781155          3.0           7.0          0.0   \n",
       "2 -2179.49       0.974706    0.781155          3.0           7.0          0.0   \n",
       "3 -2181.24       0.671014    0.781155          2.0           3.0          0.0   \n",
       "4 -2179.51       1.000000    0.781155          2.0           3.0          0.0   \n",
       "\n",
       "   energy__    sigma        mu  log_lik[1]  ...  y_hat[1191]  y_hat[1192]  \\\n",
       "0   2183.08  1.43620  0.012857    -1.32730  ...     0.806833     2.162890   \n",
       "1   2183.98  1.53422  0.118712    -1.40964  ...    -0.141566    -0.318323   \n",
       "2   2181.22  1.48874  0.064141    -1.37073  ...    -1.536190     0.569717   \n",
       "3   2183.64  1.52154  0.023368    -1.38198  ...    -0.549010    -0.575873   \n",
       "4   2181.18  1.50615  0.076652    -1.38385  ...     0.699873    -1.304270   \n",
       "\n",
       "   y_hat[1193]  y_hat[1194]  y_hat[1195]  y_hat[1196]  y_hat[1197]  \\\n",
       "0     1.020680    -2.604340    -3.618400     1.110280     0.526669   \n",
       "1    -0.541754    -0.763301     1.131260    -0.031313     0.578774   \n",
       "2     1.217000     0.850725     0.299722     0.510875    -1.408390   \n",
       "3    -0.055582     1.728400    -0.996328     1.696850    -2.055870   \n",
       "4    -0.656443     1.263340     1.609830     2.373350    -0.171663   \n",
       "\n",
       "   y_hat[1198]  y_hat[1199]  y_hat[1200]  \n",
       "0     3.215220     0.077358     0.510208  \n",
       "1    -2.244950    -2.109740     1.266810  \n",
       "2     0.705075    -0.033673     0.101903  \n",
       "3     2.371710    -1.459010     1.172530  \n",
       "4     0.522836    -0.934050    -0.435338  \n",
       "\n",
       "[5 rows x 2409 columns]"
      ]
     },
     "execution_count": 65,
     "metadata": {},
     "output_type": "execute_result"
    }
   ],
   "source": [
    "df_3 = sim_3.draws_pd()\n",
    "df_3.head()"
   ]
  },
  {
   "cell_type": "code",
   "execution_count": 66,
   "metadata": {},
   "outputs": [],
   "source": [
    "model_4=CmdStanModel(stan_file='code_4.stan')"
   ]
  },
  {
   "cell_type": "code",
   "execution_count": 67,
   "metadata": {},
   "outputs": [
    {
     "name": "stderr",
     "output_type": "stream",
     "text": [
      "09:49:15 - cmdstanpy - INFO - CmdStan start processing\n",
      "chain 1 |\u001b[33m          \u001b[0m| 00:00 Status\n",
      "\u001b[A\n",
      "\n",
      "chain 1 |\u001b[33m▉         \u001b[0m| 00:00 Iteration:    1 / 2000 [  0%]  (Warmup)\n",
      "\n",
      "\u001b[A\u001b[A\n",
      "chain 1 |\u001b[33m██▋       \u001b[0m| 00:00 Iteration:  400 / 2000 [ 20%]  (Warmup)\n",
      "\n",
      "\u001b[A\u001b[A\n",
      "chain 1 |\u001b[33m█████     \u001b[0m| 00:00 Iteration:  900 / 2000 [ 45%]  (Warmup)\n",
      "\n",
      "\u001b[A\u001b[A\n",
      "chain 1 |\u001b[34m██████▊   \u001b[0m| 00:01 Iteration: 1200 / 2000 [ 60%]  (Sampling)\n",
      "\n",
      "\u001b[A\u001b[A\n",
      "\u001b[A\n",
      "\n",
      "chain 1 |\u001b[34m████████▏ \u001b[0m| 00:01 Iteration: 1500 / 2000 [ 75%]  (Sampling)\n",
      "\u001b[A\n",
      "\n",
      "chain 1 |\u001b[34m█████████ \u001b[0m| 00:02 Iteration: 1700 / 2000 [ 85%]  (Sampling)\n",
      "\u001b[A\n",
      "chain 1 |\u001b[34m██████████\u001b[0m| 00:02 Iteration: 1900 / 2000 [ 95%]  (Sampling)\n",
      "\n",
      "\u001b[A\u001b[A\n",
      "chain 1 |\u001b[34m██████████\u001b[0m| 00:02 Sampling completed                       \n",
      "chain 2 |\u001b[34m██████████\u001b[0m| 00:02 Sampling completed                       \n",
      "chain 3 |\u001b[34m██████████\u001b[0m| 00:02 Sampling completed                       \n",
      "chain 4 |\u001b[34m██████████\u001b[0m| 00:02 Sampling completed                       "
     ]
    },
    {
     "name": "stdout",
     "output_type": "stream",
     "text": [
      "                                                                                                                                                                                                                                                                                                                                "
     ]
    },
    {
     "name": "stderr",
     "output_type": "stream",
     "text": [
      "\n",
      "09:49:18 - cmdstanpy - INFO - CmdStan done processing.\n",
      "09:49:18 - cmdstanpy - WARNING - Non-fatal error during sampling:\n",
      "Exception: student_t_lpdf: Degrees of freedom parameter is 0, but must be positive finite! (in '/home/lab6/code_4.stan', line 15, column 3 to column 47)\n",
      "\tException: student_t_lpdf: Degrees of freedom parameter is 0, but must be positive finite! (in '/home/lab6/code_4.stan', line 15, column 3 to column 47)\n",
      "\tException: student_t_lpdf: Degrees of freedom parameter is inf, but must be positive finite! (in '/home/lab6/code_4.stan', line 15, column 3 to column 47)\n",
      "Exception: student_t_lpdf: Degrees of freedom parameter is 0, but must be positive finite! (in '/home/lab6/code_4.stan', line 15, column 3 to column 47)\n",
      "\tException: student_t_lpdf: Degrees of freedom parameter is 0, but must be positive finite! (in '/home/lab6/code_4.stan', line 15, column 3 to column 47)\n",
      "\tException: student_t_lpdf: Degrees of freedom parameter is inf, but must be positive finite! (in '/home/lab6/code_4.stan', line 15, column 3 to column 47)\n",
      "\tException: student_t_lpdf: Degrees of freedom parameter is inf, but must be positive finite! (in '/home/lab6/code_4.stan', line 15, column 3 to column 47)\n",
      "Exception: student_t_lpdf: Degrees of freedom parameter is 0, but must be positive finite! (in '/home/lab6/code_4.stan', line 15, column 3 to column 47)\n",
      "\tException: student_t_lpdf: Degrees of freedom parameter is 0, but must be positive finite! (in '/home/lab6/code_4.stan', line 15, column 3 to column 47)\n",
      "\tException: student_t_lpdf: Degrees of freedom parameter is inf, but must be positive finite! (in '/home/lab6/code_4.stan', line 15, column 3 to column 47)\n",
      "\tException: student_t_lpdf: Degrees of freedom parameter is inf, but must be positive finite! (in '/home/lab6/code_4.stan', line 15, column 3 to column 47)\n",
      "Exception: student_t_lpdf: Scale parameter is inf, but must be positive finite! (in '/home/lab6/code_4.stan', line 15, column 3 to column 47)\n",
      "\tException: student_t_lpdf: Scale parameter is inf, but must be positive finite! (in '/home/lab6/code_4.stan', line 15, column 3 to column 47)\n",
      "\tException: student_t_lpdf: Degrees of freedom parameter is inf, but must be positive finite! (in '/home/lab6/code_4.stan', line 15, column 3 to column 47)\n",
      "\tException: student_t_lpdf: Scale parameter is 0, but must be positive finite! (in '/home/lab6/code_4.stan', line 15, column 3 to column 47)\n",
      "Consider re-running with show_console=True if the above output is unclear!\n"
     ]
    },
    {
     "name": "stdout",
     "output_type": "stream",
     "text": [
      "\n"
     ]
    }
   ],
   "source": [
    "dm_1 = df_1.iloc[0, 3:]\n",
    "sim_4=model_4.sample(data={'N': N, 'y': dm_1})"
   ]
  },
  {
   "cell_type": "code",
   "execution_count": 68,
   "metadata": {},
   "outputs": [
    {
     "data": {
      "text/html": [
       "<div>\n",
       "<style scoped>\n",
       "    .dataframe tbody tr th:only-of-type {\n",
       "        vertical-align: middle;\n",
       "    }\n",
       "\n",
       "    .dataframe tbody tr th {\n",
       "        vertical-align: top;\n",
       "    }\n",
       "\n",
       "    .dataframe thead th {\n",
       "        text-align: right;\n",
       "    }\n",
       "</style>\n",
       "<table border=\"1\" class=\"dataframe\">\n",
       "  <thead>\n",
       "    <tr style=\"text-align: right;\">\n",
       "      <th></th>\n",
       "      <th>lp__</th>\n",
       "      <th>accept_stat__</th>\n",
       "      <th>stepsize__</th>\n",
       "      <th>treedepth__</th>\n",
       "      <th>n_leapfrog__</th>\n",
       "      <th>divergent__</th>\n",
       "      <th>energy__</th>\n",
       "      <th>sigma</th>\n",
       "      <th>mu</th>\n",
       "      <th>nu</th>\n",
       "      <th>...</th>\n",
       "      <th>y_hat[1191]</th>\n",
       "      <th>y_hat[1192]</th>\n",
       "      <th>y_hat[1193]</th>\n",
       "      <th>y_hat[1194]</th>\n",
       "      <th>y_hat[1195]</th>\n",
       "      <th>y_hat[1196]</th>\n",
       "      <th>y_hat[1197]</th>\n",
       "      <th>y_hat[1198]</th>\n",
       "      <th>y_hat[1199]</th>\n",
       "      <th>y_hat[1200]</th>\n",
       "    </tr>\n",
       "  </thead>\n",
       "  <tbody>\n",
       "    <tr>\n",
       "      <th>0</th>\n",
       "      <td>-1803.45</td>\n",
       "      <td>0.911997</td>\n",
       "      <td>0.627349</td>\n",
       "      <td>3.0</td>\n",
       "      <td>7.0</td>\n",
       "      <td>0.0</td>\n",
       "      <td>1804.75</td>\n",
       "      <td>0.851879</td>\n",
       "      <td>0.035197</td>\n",
       "      <td>3.76214</td>\n",
       "      <td>...</td>\n",
       "      <td>0.998587</td>\n",
       "      <td>-0.085072</td>\n",
       "      <td>-0.420249</td>\n",
       "      <td>0.321382</td>\n",
       "      <td>1.238750</td>\n",
       "      <td>-0.786252</td>\n",
       "      <td>-0.733688</td>\n",
       "      <td>-0.350074</td>\n",
       "      <td>-0.191387</td>\n",
       "      <td>0.091328</td>\n",
       "    </tr>\n",
       "    <tr>\n",
       "      <th>1</th>\n",
       "      <td>-1803.90</td>\n",
       "      <td>0.986529</td>\n",
       "      <td>0.627349</td>\n",
       "      <td>2.0</td>\n",
       "      <td>7.0</td>\n",
       "      <td>0.0</td>\n",
       "      <td>1804.94</td>\n",
       "      <td>0.841956</td>\n",
       "      <td>0.046878</td>\n",
       "      <td>4.76046</td>\n",
       "      <td>...</td>\n",
       "      <td>0.731278</td>\n",
       "      <td>-0.085691</td>\n",
       "      <td>1.492520</td>\n",
       "      <td>0.109519</td>\n",
       "      <td>-2.024750</td>\n",
       "      <td>-1.603760</td>\n",
       "      <td>-0.377430</td>\n",
       "      <td>-0.516140</td>\n",
       "      <td>0.372725</td>\n",
       "      <td>-0.184223</td>\n",
       "    </tr>\n",
       "    <tr>\n",
       "      <th>2</th>\n",
       "      <td>-1803.51</td>\n",
       "      <td>1.000000</td>\n",
       "      <td>0.627349</td>\n",
       "      <td>2.0</td>\n",
       "      <td>3.0</td>\n",
       "      <td>0.0</td>\n",
       "      <td>1804.21</td>\n",
       "      <td>0.835139</td>\n",
       "      <td>0.038338</td>\n",
       "      <td>4.68278</td>\n",
       "      <td>...</td>\n",
       "      <td>1.452370</td>\n",
       "      <td>-0.389862</td>\n",
       "      <td>-0.326754</td>\n",
       "      <td>0.510638</td>\n",
       "      <td>0.228583</td>\n",
       "      <td>-0.256067</td>\n",
       "      <td>-0.122268</td>\n",
       "      <td>0.276428</td>\n",
       "      <td>0.139444</td>\n",
       "      <td>-0.372248</td>\n",
       "    </tr>\n",
       "    <tr>\n",
       "      <th>3</th>\n",
       "      <td>-1803.42</td>\n",
       "      <td>0.632238</td>\n",
       "      <td>0.627349</td>\n",
       "      <td>2.0</td>\n",
       "      <td>7.0</td>\n",
       "      <td>0.0</td>\n",
       "      <td>1807.48</td>\n",
       "      <td>0.878153</td>\n",
       "      <td>0.017781</td>\n",
       "      <td>4.05548</td>\n",
       "      <td>...</td>\n",
       "      <td>0.622353</td>\n",
       "      <td>0.367030</td>\n",
       "      <td>0.478541</td>\n",
       "      <td>1.313680</td>\n",
       "      <td>0.476706</td>\n",
       "      <td>1.388960</td>\n",
       "      <td>-0.593467</td>\n",
       "      <td>-0.052983</td>\n",
       "      <td>-2.361420</td>\n",
       "      <td>-0.418563</td>\n",
       "    </tr>\n",
       "    <tr>\n",
       "      <th>4</th>\n",
       "      <td>-1803.35</td>\n",
       "      <td>1.000000</td>\n",
       "      <td>0.627349</td>\n",
       "      <td>2.0</td>\n",
       "      <td>3.0</td>\n",
       "      <td>0.0</td>\n",
       "      <td>1803.93</td>\n",
       "      <td>0.841298</td>\n",
       "      <td>0.002861</td>\n",
       "      <td>4.91725</td>\n",
       "      <td>...</td>\n",
       "      <td>1.294100</td>\n",
       "      <td>-0.563615</td>\n",
       "      <td>-0.102815</td>\n",
       "      <td>-1.317140</td>\n",
       "      <td>0.270177</td>\n",
       "      <td>-0.156209</td>\n",
       "      <td>0.874964</td>\n",
       "      <td>-0.088554</td>\n",
       "      <td>-0.801432</td>\n",
       "      <td>-0.150747</td>\n",
       "    </tr>\n",
       "  </tbody>\n",
       "</table>\n",
       "<p>5 rows × 2410 columns</p>\n",
       "</div>"
      ],
      "text/plain": [
       "      lp__  accept_stat__  stepsize__  treedepth__  n_leapfrog__  divergent__  \\\n",
       "0 -1803.45       0.911997    0.627349          3.0           7.0          0.0   \n",
       "1 -1803.90       0.986529    0.627349          2.0           7.0          0.0   \n",
       "2 -1803.51       1.000000    0.627349          2.0           3.0          0.0   \n",
       "3 -1803.42       0.632238    0.627349          2.0           7.0          0.0   \n",
       "4 -1803.35       1.000000    0.627349          2.0           3.0          0.0   \n",
       "\n",
       "   energy__     sigma        mu       nu  ...  y_hat[1191]  y_hat[1192]  \\\n",
       "0   1804.75  0.851879  0.035197  3.76214  ...     0.998587    -0.085072   \n",
       "1   1804.94  0.841956  0.046878  4.76046  ...     0.731278    -0.085691   \n",
       "2   1804.21  0.835139  0.038338  4.68278  ...     1.452370    -0.389862   \n",
       "3   1807.48  0.878153  0.017781  4.05548  ...     0.622353     0.367030   \n",
       "4   1803.93  0.841298  0.002861  4.91725  ...     1.294100    -0.563615   \n",
       "\n",
       "   y_hat[1193]  y_hat[1194]  y_hat[1195]  y_hat[1196]  y_hat[1197]  \\\n",
       "0    -0.420249     0.321382     1.238750    -0.786252    -0.733688   \n",
       "1     1.492520     0.109519    -2.024750    -1.603760    -0.377430   \n",
       "2    -0.326754     0.510638     0.228583    -0.256067    -0.122268   \n",
       "3     0.478541     1.313680     0.476706     1.388960    -0.593467   \n",
       "4    -0.102815    -1.317140     0.270177    -0.156209     0.874964   \n",
       "\n",
       "   y_hat[1198]  y_hat[1199]  y_hat[1200]  \n",
       "0    -0.350074    -0.191387     0.091328  \n",
       "1    -0.516140     0.372725    -0.184223  \n",
       "2     0.276428     0.139444    -0.372248  \n",
       "3    -0.052983    -2.361420    -0.418563  \n",
       "4    -0.088554    -0.801432    -0.150747  \n",
       "\n",
       "[5 rows x 2410 columns]"
      ]
     },
     "execution_count": 68,
     "metadata": {},
     "output_type": "execute_result"
    }
   ],
   "source": [
    "df_4 = sim_4.draws_pd()\n",
    "df_4.head()"
   ]
  },
  {
   "cell_type": "code",
   "execution_count": 69,
   "metadata": {},
   "outputs": [
    {
     "name": "stderr",
     "output_type": "stream",
     "text": [
      "/usr/local/lib/python3.9/site-packages/arviz/stats/stats.py:811: UserWarning: Estimated shape parameter of Pareto distribution is greater than 0.7 for one or more samples. You should consider using a more robust model, this is because importance sampling is less likely to work well if the marginal posterior and LOO posterior are very different. This is more likely to happen with a non-robust model and highly influential observations.\n",
      "  warnings.warn(\n"
     ]
    },
    {
     "data": {
      "text/html": [
       "<div>\n",
       "<style scoped>\n",
       "    .dataframe tbody tr th:only-of-type {\n",
       "        vertical-align: middle;\n",
       "    }\n",
       "\n",
       "    .dataframe tbody tr th {\n",
       "        vertical-align: top;\n",
       "    }\n",
       "\n",
       "    .dataframe thead th {\n",
       "        text-align: right;\n",
       "    }\n",
       "</style>\n",
       "<table border=\"1\" class=\"dataframe\">\n",
       "  <thead>\n",
       "    <tr style=\"text-align: right;\">\n",
       "      <th></th>\n",
       "      <th>rank</th>\n",
       "      <th>loo</th>\n",
       "      <th>p_loo</th>\n",
       "      <th>d_loo</th>\n",
       "      <th>weight</th>\n",
       "      <th>se</th>\n",
       "      <th>dse</th>\n",
       "      <th>warning</th>\n",
       "      <th>loo_scale</th>\n",
       "    </tr>\n",
       "  </thead>\n",
       "  <tbody>\n",
       "    <tr>\n",
       "      <th>model_4</th>\n",
       "      <td>0</td>\n",
       "      <td>-1803.560043</td>\n",
       "      <td>4.566000</td>\n",
       "      <td>0.000000</td>\n",
       "      <td>1.0</td>\n",
       "      <td>38.263982</td>\n",
       "      <td>0.000000</td>\n",
       "      <td>False</td>\n",
       "      <td>log</td>\n",
       "    </tr>\n",
       "    <tr>\n",
       "      <th>model_3</th>\n",
       "      <td>1</td>\n",
       "      <td>-2194.200587</td>\n",
       "      <td>28.950119</td>\n",
       "      <td>390.640543</td>\n",
       "      <td>0.0</td>\n",
       "      <td>133.263808</td>\n",
       "      <td>106.991086</td>\n",
       "      <td>True</td>\n",
       "      <td>log</td>\n",
       "    </tr>\n",
       "  </tbody>\n",
       "</table>\n",
       "</div>"
      ],
      "text/plain": [
       "         rank          loo      p_loo       d_loo  weight          se  \\\n",
       "model_4     0 -1803.560043   4.566000    0.000000     1.0   38.263982   \n",
       "model_3     1 -2194.200587  28.950119  390.640543     0.0  133.263808   \n",
       "\n",
       "                dse  warning loo_scale  \n",
       "model_4    0.000000    False       log  \n",
       "model_3  106.991086     True       log  "
      ]
     },
     "execution_count": 69,
     "metadata": {},
     "output_type": "execute_result"
    }
   ],
   "source": [
    "data = {'model_3': sim_3, 'model_4': sim_4}\n",
    "compare_loo = az.compare(data, ic='loo')\n",
    "compare_loo"
   ]
  },
  {
   "cell_type": "code",
   "execution_count": 70,
   "metadata": {},
   "outputs": [
    {
     "data": {
      "image/png": "[encoded data removed]",
      "text/plain": [
       "<Figure size 432x144 with 1 Axes>"
      ]
     },
     "metadata": {},
     "output_type": "display_data"
    }
   ],
   "source": [
    "az.plot_compare(compare_loo, plot_kwargs= {'color_ic': 'b', 'color_dse' : 'r', 'color_ls_min_ic' : 'y'})\n",
    "plt.title(\"loo\")\n",
    "plt.show()"
   ]
  },
  {
   "cell_type": "code",
   "execution_count": 71,
   "metadata": {},
   "outputs": [
    {
     "name": "stderr",
     "output_type": "stream",
     "text": [
      "/usr/local/lib/python3.9/site-packages/arviz/stats/stats.py:1635: UserWarning: For one or more samples the posterior variance of the log predictive densities exceeds 0.4. This could be indication of WAIC starting to fail. \n",
      "See http://arxiv.org/abs/1507.04544 for details\n",
      "  warnings.warn(\n",
      "/usr/local/lib/python3.9/site-packages/arviz/stats/stats.py:1635: UserWarning: For one or more samples the posterior variance of the log predictive densities exceeds 0.4. This could be indication of WAIC starting to fail. \n",
      "See http://arxiv.org/abs/1507.04544 for details\n",
      "  warnings.warn(\n"
     ]
    },
    {
     "data": {
      "text/html": [
       "<div>\n",
       "<style scoped>\n",
       "    .dataframe tbody tr th:only-of-type {\n",
       "        vertical-align: middle;\n",
       "    }\n",
       "\n",
       "    .dataframe tbody tr th {\n",
       "        vertical-align: top;\n",
       "    }\n",
       "\n",
       "    .dataframe thead th {\n",
       "        text-align: right;\n",
       "    }\n",
       "</style>\n",
       "<table border=\"1\" class=\"dataframe\">\n",
       "  <thead>\n",
       "    <tr style=\"text-align: right;\">\n",
       "      <th></th>\n",
       "      <th>rank</th>\n",
       "      <th>waic</th>\n",
       "      <th>p_waic</th>\n",
       "      <th>d_waic</th>\n",
       "      <th>weight</th>\n",
       "      <th>se</th>\n",
       "      <th>dse</th>\n",
       "      <th>warning</th>\n",
       "      <th>waic_scale</th>\n",
       "    </tr>\n",
       "  </thead>\n",
       "  <tbody>\n",
       "    <tr>\n",
       "      <th>model_4</th>\n",
       "      <td>0</td>\n",
       "      <td>-1803.545784</td>\n",
       "      <td>4.551741</td>\n",
       "      <td>0.000000</td>\n",
       "      <td>1.0</td>\n",
       "      <td>38.259905</td>\n",
       "      <td>0.000000</td>\n",
       "      <td>True</td>\n",
       "      <td>log</td>\n",
       "    </tr>\n",
       "    <tr>\n",
       "      <th>model_3</th>\n",
       "      <td>1</td>\n",
       "      <td>-2195.008253</td>\n",
       "      <td>29.757786</td>\n",
       "      <td>391.462469</td>\n",
       "      <td>0.0</td>\n",
       "      <td>133.670665</td>\n",
       "      <td>107.417429</td>\n",
       "      <td>True</td>\n",
       "      <td>log</td>\n",
       "    </tr>\n",
       "  </tbody>\n",
       "</table>\n",
       "</div>"
      ],
      "text/plain": [
       "         rank         waic     p_waic      d_waic  weight          se  \\\n",
       "model_4     0 -1803.545784   4.551741    0.000000     1.0   38.259905   \n",
       "model_3     1 -2195.008253  29.757786  391.462469     0.0  133.670665   \n",
       "\n",
       "                dse  warning waic_scale  \n",
       "model_4    0.000000     True        log  \n",
       "model_3  107.417429     True        log  "
      ]
     },
     "execution_count": 71,
     "metadata": {},
     "output_type": "execute_result"
    }
   ],
   "source": [
    "data = {'model_3': sim_3, 'model_4': sim_4}\n",
    "compare_waic = az.compare(data, ic='waic')\n",
    "compare_waic"
   ]
  },
  {
   "cell_type": "code",
   "execution_count": 72,
   "metadata": {},
   "outputs": [
    {
     "data": {
      "image/png": "[encoded data removed]",
      "text/plain": [
       "<Figure size 432x144 with 1 Axes>"
      ]
     },
     "metadata": {},
     "output_type": "display_data"
    }
   ],
   "source": [
    "az.plot_compare(compare_waic, plot_kwargs= {'color_ic': 'b', 'color_dse' : 'r', 'color_ls_min_ic' : 'y'})\n",
    "plt.title(\"waic\")\n",
    "plt.show()"
   ]
  },
  {
   "attachments": {},
   "cell_type": "markdown",
   "metadata": {},
   "source": [
    "# Excercise 3 - compare models with different numbers of predictors"
   ]
  },
  {
   "cell_type": "code",
   "execution_count": 73,
   "metadata": {},
   "outputs": [],
   "source": [
    "model_5=CmdStanModel(stan_file='code_5.stan')"
   ]
  },
  {
   "cell_type": "code",
   "execution_count": 74,
   "metadata": {},
   "outputs": [
    {
     "name": "stderr",
     "output_type": "stream",
     "text": [
      "09:49:27 - cmdstanpy - INFO - CmdStan start processing\n",
      "chain 1 |\u001b[33m          \u001b[0m| 00:00 Status\n",
      "\u001b[A\n",
      "\n",
      "chain 1 |\u001b[33m▍         \u001b[0m| 00:00 Status\n",
      "\n",
      "\u001b[A\u001b[A\n",
      "chain 1 |\u001b[33m████      \u001b[0m| 00:00 Iteration:  700 / 2000 [ 35%]  (Warmup)\n",
      "\n",
      "\u001b[A\u001b[A\n",
      "\u001b[A\n",
      "\n",
      "\u001b[A\u001b[A\n",
      "chain 1 |\u001b[34m██████▎   \u001b[0m| 00:00 Iteration: 1100 / 2000 [ 55%]  (Sampling)\n",
      "\u001b[A\n",
      "\n",
      "chain 1 |\u001b[34m█████████ \u001b[0m| 00:02 Iteration: 1700 / 2000 [ 85%]  (Sampling)\n",
      "\u001b[A\n",
      "\n",
      "chain 1 |\u001b[34m██████████\u001b[0m| 00:02 Sampling completed                       \n",
      "chain 2 |\u001b[34m██████████\u001b[0m| 00:02 Sampling completed                       \n",
      "chain 3 |\u001b[34m██████████\u001b[0m| 00:02 Sampling completed                       \n",
      "chain 4 |\u001b[34m██████████\u001b[0m| 00:02 Sampling completed                       "
     ]
    },
    {
     "name": "stdout",
     "output_type": "stream",
     "text": [
      "                                                                                                                                                                                                                                                                                                                                "
     ]
    },
    {
     "name": "stderr",
     "output_type": "stream",
     "text": [
      "\n",
      "09:49:30 - cmdstanpy - INFO - CmdStan done processing.\n",
      "09:49:30 - cmdstanpy - WARNING - Non-fatal error during sampling:\n",
      "Exception: normal_lpdf: Scale parameter is 0, but must be positive! (in '/home/lab6/code_5.stan', line 19, column 4 to column 26)\n",
      "\tException: normal_lpdf: Scale parameter is 0, but must be positive! (in '/home/lab6/code_5.stan', line 19, column 4 to column 26)\n",
      "Exception: normal_lpdf: Scale parameter is 0, but must be positive! (in '/home/lab6/code_5.stan', line 19, column 4 to column 26)\n",
      "\tException: normal_lpdf: Scale parameter is 0, but must be positive! (in '/home/lab6/code_5.stan', line 19, column 4 to column 26)\n",
      "Consider re-running with show_console=True if the above output is unclear!\n"
     ]
    },
    {
     "name": "stdout",
     "output_type": "stream",
     "text": [
      "\n"
     ]
    }
   ],
   "source": [
    "df_5_1 = {'N': N, 'K': 1, 'y': df_2.loc[:, 'y[1]':].values.reshape((N)), 'X': df_2.loc[:, 'X[1,1]': f'X[{N},1]'].values.reshape((N, 1))}\n",
    "sim_5_1=model_5.sample(data=df_5_1)"
   ]
  },
  {
   "cell_type": "code",
   "execution_count": 75,
   "metadata": {},
   "outputs": [
    {
     "name": "stderr",
     "output_type": "stream",
     "text": [
      "09:49:31 - cmdstanpy - INFO - CmdStan start processing\n",
      "chain 1 |\u001b[33m          \u001b[0m| 00:00 Status\n",
      "\u001b[A\n",
      "\n",
      "\u001b[A\u001b[A\n",
      "\u001b[A\n",
      "\n",
      "chain 1 |\u001b[33m▉         \u001b[0m| 00:00 Iteration:    1 / 2000 [  0%]  (Warmup)\n",
      "\u001b[A\n",
      "\n",
      "chain 1 |\u001b[33m████      \u001b[0m| 00:00 Iteration:  700 / 2000 [ 35%]  (Warmup)\n",
      "\u001b[A\n",
      "\n",
      "chain 1 |\u001b[34m██████▎   \u001b[0m| 00:00 Iteration: 1100 / 2000 [ 55%]  (Sampling)\n",
      "chain 1 |\u001b[34m███████▋  \u001b[0m| 00:01 Iteration: 1400 / 2000 [ 70%]  (Sampling)\n",
      "\n",
      "\u001b[A\u001b[A\n",
      "chain 1 |\u001b[34m████████▋ \u001b[0m| 00:02 Iteration: 1600 / 2000 [ 80%]  (Sampling)\n",
      "\n",
      "\u001b[A\u001b[A\n",
      "chain 1 |\u001b[34m█████████▌\u001b[0m| 00:02 Iteration: 1800 / 2000 [ 90%]  (Sampling)\n",
      "\n",
      "chain 1 |\u001b[34m██████████\u001b[0m| 00:02 Iteration: 1900 / 2000 [ 95%]  (Sampling)\n",
      "chain 1 |\u001b[34m██████████\u001b[0m| 00:03 Sampling completed                       \n",
      "chain 2 |\u001b[34m██████████\u001b[0m| 00:03 Sampling completed                       \n",
      "chain 3 |\u001b[34m██████████\u001b[0m| 00:03 Sampling completed                       \n",
      "chain 4 |\u001b[34m██████████\u001b[0m| 00:03 Sampling completed                       "
     ]
    },
    {
     "name": "stdout",
     "output_type": "stream",
     "text": [
      "                                                                                                                                                                                                                                                                                                                                "
     ]
    },
    {
     "name": "stderr",
     "output_type": "stream",
     "text": [
      "\n",
      "09:49:34 - cmdstanpy - INFO - CmdStan done processing.\n",
      "09:49:34 - cmdstanpy - WARNING - Non-fatal error during sampling:\n",
      "Exception: normal_lpdf: Scale parameter is 0, but must be positive! (in '/home/lab6/code_5.stan', line 19, column 4 to column 26)\n",
      "\tException: normal_lpdf: Scale parameter is 0, but must be positive! (in '/home/lab6/code_5.stan', line 19, column 4 to column 26)\n",
      "Exception: normal_lpdf: Scale parameter is 0, but must be positive! (in '/home/lab6/code_5.stan', line 19, column 4 to column 26)\n",
      "Consider re-running with show_console=True if the above output is unclear!\n"
     ]
    },
    {
     "name": "stdout",
     "output_type": "stream",
     "text": [
      "\n"
     ]
    }
   ],
   "source": [
    "df_5_2 = {'N': N, 'K': 2, 'y': df_2.loc[:, 'y[1]':].values.reshape((N)), 'X': df_2.loc[:, 'X[1,1]': f'X[{N},2]'].values.reshape((N, 2))}\n",
    "sim_5_2=model_5.sample(data=df_5_2)"
   ]
  },
  {
   "cell_type": "code",
   "execution_count": 76,
   "metadata": {},
   "outputs": [
    {
     "name": "stderr",
     "output_type": "stream",
     "text": [
      "09:49:35 - cmdstanpy - INFO - CmdStan start processing\n",
      "chain 1 |\u001b[33m          \u001b[0m| 00:00 Status\n",
      "\u001b[A\n",
      "\n",
      "chain 1 |\u001b[33m▍         \u001b[0m| 00:00 Status\n",
      "\u001b[A\n",
      "\n",
      "chain 1 |\u001b[33m██▎       \u001b[0m| 00:00 Iteration:  300 / 2000 [ 15%]  (Warmup)\n",
      "\u001b[A\n",
      "\n",
      "chain 1 |\u001b[33m████▌     \u001b[0m| 00:00 Iteration:  800 / 2000 [ 40%]  (Warmup)\n",
      "\u001b[A\n",
      "\n",
      "chain 1 |\u001b[34m██████▎   \u001b[0m| 00:00 Iteration: 1100 / 2000 [ 55%]  (Sampling)\n",
      "\u001b[A\n",
      "\n",
      "chain 1 |\u001b[34m███████▋  \u001b[0m| 00:01 Iteration: 1400 / 2000 [ 70%]  (Sampling)\n",
      "\n",
      "\u001b[A\u001b[A\n",
      "chain 1 |\u001b[34m████████▋ \u001b[0m| 00:02 Iteration: 1600 / 2000 [ 80%]  (Sampling)\n",
      "\u001b[A\n",
      "\n",
      "\u001b[A\u001b[A\n",
      "\n",
      "chain 1 |\u001b[34m█████████▌\u001b[0m| 00:02 Iteration: 1800 / 2000 [ 90%]  (Sampling)\n",
      "\n",
      "\u001b[A\u001b[A\n",
      "chain 1 |\u001b[34m██████████\u001b[0m| 00:03 Sampling completed                       \n",
      "chain 2 |\u001b[34m██████████\u001b[0m| 00:03 Sampling completed                       \n",
      "chain 3 |\u001b[34m██████████\u001b[0m| 00:03 Sampling completed                       \n",
      "chain 4 |\u001b[34m██████████\u001b[0m| 00:03 Sampling completed                       "
     ]
    },
    {
     "name": "stdout",
     "output_type": "stream",
     "text": [
      "                                                                                                                                                                                                                                                                                                                                "
     ]
    },
    {
     "name": "stderr",
     "output_type": "stream",
     "text": [
      "\n",
      "09:49:38 - cmdstanpy - INFO - CmdStan done processing.\n",
      "09:49:38 - cmdstanpy - WARNING - Non-fatal error during sampling:\n",
      "Exception: normal_lpdf: Scale parameter is 0, but must be positive! (in '/home/lab6/code_5.stan', line 19, column 4 to column 26)\n",
      "Consider re-running with show_console=True if the above output is unclear!\n"
     ]
    },
    {
     "name": "stdout",
     "output_type": "stream",
     "text": [
      "\n"
     ]
    }
   ],
   "source": [
    "df_5_3 = {'N': N, 'K': 3, 'y': df_2.loc[:, 'y[1]':].values.reshape((N)), 'X': df_2.loc[:, 'X[1,1]': f'X[{N},3]'].values.reshape((N, 3))}\n",
    "sim_5_3=model_5.sample(data=df_5_3)"
   ]
  },
  {
   "cell_type": "code",
   "execution_count": 77,
   "metadata": {},
   "outputs": [
    {
     "data": {
      "text/html": [
       "<div>\n",
       "<style scoped>\n",
       "    .dataframe tbody tr th:only-of-type {\n",
       "        vertical-align: middle;\n",
       "    }\n",
       "\n",
       "    .dataframe tbody tr th {\n",
       "        vertical-align: top;\n",
       "    }\n",
       "\n",
       "    .dataframe thead th {\n",
       "        text-align: right;\n",
       "    }\n",
       "</style>\n",
       "<table border=\"1\" class=\"dataframe\">\n",
       "  <thead>\n",
       "    <tr style=\"text-align: right;\">\n",
       "      <th></th>\n",
       "      <th>rank</th>\n",
       "      <th>loo</th>\n",
       "      <th>p_loo</th>\n",
       "      <th>d_loo</th>\n",
       "      <th>weight</th>\n",
       "      <th>se</th>\n",
       "      <th>dse</th>\n",
       "      <th>warning</th>\n",
       "      <th>loo_scale</th>\n",
       "    </tr>\n",
       "  </thead>\n",
       "  <tbody>\n",
       "    <tr>\n",
       "      <th>model_5_1</th>\n",
       "      <td>0</td>\n",
       "      <td>-2181.321615</td>\n",
       "      <td>2.015290</td>\n",
       "      <td>0.000000</td>\n",
       "      <td>1.0</td>\n",
       "      <td>23.957294</td>\n",
       "      <td>0.000000</td>\n",
       "      <td>False</td>\n",
       "      <td>log</td>\n",
       "    </tr>\n",
       "    <tr>\n",
       "      <th>model_5_3</th>\n",
       "      <td>1</td>\n",
       "      <td>-2823.031868</td>\n",
       "      <td>4.054273</td>\n",
       "      <td>641.710253</td>\n",
       "      <td>0.0</td>\n",
       "      <td>23.585914</td>\n",
       "      <td>27.721887</td>\n",
       "      <td>False</td>\n",
       "      <td>log</td>\n",
       "    </tr>\n",
       "    <tr>\n",
       "      <th>model_5_2</th>\n",
       "      <td>2</td>\n",
       "      <td>-2823.159235</td>\n",
       "      <td>2.989611</td>\n",
       "      <td>641.837620</td>\n",
       "      <td>0.0</td>\n",
       "      <td>23.534979</td>\n",
       "      <td>27.596327</td>\n",
       "      <td>False</td>\n",
       "      <td>log</td>\n",
       "    </tr>\n",
       "  </tbody>\n",
       "</table>\n",
       "</div>"
      ],
      "text/plain": [
       "           rank          loo     p_loo       d_loo  weight         se  \\\n",
       "model_5_1     0 -2181.321615  2.015290    0.000000     1.0  23.957294   \n",
       "model_5_3     1 -2823.031868  4.054273  641.710253     0.0  23.585914   \n",
       "model_5_2     2 -2823.159235  2.989611  641.837620     0.0  23.534979   \n",
       "\n",
       "                 dse  warning loo_scale  \n",
       "model_5_1   0.000000    False       log  \n",
       "model_5_3  27.721887    False       log  \n",
       "model_5_2  27.596327    False       log  "
      ]
     },
     "execution_count": 77,
     "metadata": {},
     "output_type": "execute_result"
    }
   ],
   "source": [
    "data = {'model_5_1': sim_5_1, 'model_5_2': sim_5_2, 'model_5_3': sim_5_3}\n",
    "compare_loo = az.compare(data, ic='loo')\n",
    "compare_loo"
   ]
  },
  {
   "cell_type": "code",
   "execution_count": 78,
   "metadata": {},
   "outputs": [
    {
     "data": {
      "image/png": "[encoded data removed]",
      "text/plain": [
       "<Figure size 432x216 with 1 Axes>"
      ]
     },
     "metadata": {},
     "output_type": "display_data"
    }
   ],
   "source": [
    "az.plot_compare(compare_loo, plot_kwargs= {'color_ic': 'b', 'color_dse' : 'r', 'color_ls_min_ic' : 'y'})\n",
    "plt.title(\"loo\")\n",
    "plt.show()"
   ]
  },
  {
   "cell_type": "code",
   "execution_count": 79,
   "metadata": {},
   "outputs": [
    {
     "data": {
      "text/html": [
       "<div>\n",
       "<style scoped>\n",
       "    .dataframe tbody tr th:only-of-type {\n",
       "        vertical-align: middle;\n",
       "    }\n",
       "\n",
       "    .dataframe tbody tr th {\n",
       "        vertical-align: top;\n",
       "    }\n",
       "\n",
       "    .dataframe thead th {\n",
       "        text-align: right;\n",
       "    }\n",
       "</style>\n",
       "<table border=\"1\" class=\"dataframe\">\n",
       "  <thead>\n",
       "    <tr style=\"text-align: right;\">\n",
       "      <th></th>\n",
       "      <th>rank</th>\n",
       "      <th>waic</th>\n",
       "      <th>p_waic</th>\n",
       "      <th>d_waic</th>\n",
       "      <th>weight</th>\n",
       "      <th>se</th>\n",
       "      <th>dse</th>\n",
       "      <th>warning</th>\n",
       "      <th>waic_scale</th>\n",
       "    </tr>\n",
       "  </thead>\n",
       "  <tbody>\n",
       "    <tr>\n",
       "      <th>model_5_1</th>\n",
       "      <td>0</td>\n",
       "      <td>-2181.321761</td>\n",
       "      <td>2.015436</td>\n",
       "      <td>0.000000</td>\n",
       "      <td>1.000000e+00</td>\n",
       "      <td>23.957312</td>\n",
       "      <td>0.000000</td>\n",
       "      <td>False</td>\n",
       "      <td>log</td>\n",
       "    </tr>\n",
       "    <tr>\n",
       "      <th>model_5_3</th>\n",
       "      <td>1</td>\n",
       "      <td>-2823.031718</td>\n",
       "      <td>4.054123</td>\n",
       "      <td>641.709958</td>\n",
       "      <td>1.300394e-10</td>\n",
       "      <td>23.585901</td>\n",
       "      <td>27.721888</td>\n",
       "      <td>False</td>\n",
       "      <td>log</td>\n",
       "    </tr>\n",
       "    <tr>\n",
       "      <th>model_5_2</th>\n",
       "      <td>2</td>\n",
       "      <td>-2823.159056</td>\n",
       "      <td>2.989433</td>\n",
       "      <td>641.837296</td>\n",
       "      <td>0.000000e+00</td>\n",
       "      <td>23.534963</td>\n",
       "      <td>27.596327</td>\n",
       "      <td>False</td>\n",
       "      <td>log</td>\n",
       "    </tr>\n",
       "  </tbody>\n",
       "</table>\n",
       "</div>"
      ],
      "text/plain": [
       "           rank         waic    p_waic      d_waic        weight         se  \\\n",
       "model_5_1     0 -2181.321761  2.015436    0.000000  1.000000e+00  23.957312   \n",
       "model_5_3     1 -2823.031718  4.054123  641.709958  1.300394e-10  23.585901   \n",
       "model_5_2     2 -2823.159056  2.989433  641.837296  0.000000e+00  23.534963   \n",
       "\n",
       "                 dse  warning waic_scale  \n",
       "model_5_1   0.000000    False        log  \n",
       "model_5_3  27.721888    False        log  \n",
       "model_5_2  27.596327    False        log  "
      ]
     },
     "execution_count": 79,
     "metadata": {},
     "output_type": "execute_result"
    }
   ],
   "source": [
    "data = {'model_5_1': sim_5_1, 'model_5_2': sim_5_2, 'model_5_3': sim_5_3}\n",
    "compare_waic = az.compare(data, ic='waic')\n",
    "compare_waic"
   ]
  },
  {
   "cell_type": "code",
   "execution_count": 80,
   "metadata": {},
   "outputs": [
    {
     "data": {
      "image/png": "[encoded data removed]",
      "text/plain": [
       "<Figure size 432x216 with 1 Axes>"
      ]
     },
     "metadata": {},
     "output_type": "display_data"
    }
   ],
   "source": [
    "az.plot_compare(compare_waic, plot_kwargs= {'color_ic': 'b', 'color_dse' : 'r', 'color_ls_min_ic' : 'y'})\n",
    "plt.title(\"waic\")\n",
    "plt.show()"
   ]
  }
 ],
 "metadata": {
  "kernelspec": {
   "display_name": "Python 3",
   "language": "python",
   "name": "python3"
  },
  "language_info": {
   "codemirror_mode": {
    "name": "ipython",
    "version": 3
   },
   "file_extension": ".py",
   "mimetype": "text/x-python",
   "name": "python",
   "nbconvert_exporter": "python",
   "pygments_lexer": "ipython3",
   "version": "3.9.11"
  },
  "orig_nbformat": 4
 },
 "nbformat": 4,
 "nbformat_minor": 2
}
