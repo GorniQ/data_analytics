{
 "cells": [
  {
   "attachments": {},
   "cell_type": "markdown",
   "metadata": {},
   "source": [
    "# Lab 4 - Linear models\n",
    "\n",
    "We focus on models in the form \n",
    "\n",
    "$$ y \\sim \\mathrm{Normal}(\\alpha+X\\beta,\\sigma) $$\n",
    "\n"
   ]
  },
  {
   "cell_type": "code",
   "execution_count": null,
   "metadata": {},
   "outputs": [],
   "source": [
    "from cmdstanpy import CmdStanModel\n",
    "\n",
    "\n",
    "import arviz as az\n",
    "import numpy as np\n",
    "import seaborn as sns\n",
    "import scipy.stats as stats\n",
    "\n",
    "import matplotlib.pyplot as plt\n",
    "import pandas as pd"
   ]
  },
  {
   "cell_type": "markdown",
   "metadata": {},
   "source": [
    "## Excercise 1 - modelling height of !Kung people"
   ]
  },
  {
   "cell_type": "markdown",
   "metadata": {},
   "source": [
    "### Normal model - no predictors\n",
    "We will try to fit $\\mathrm{Normal}(\\mu,\\sigma)$ distribution to height data. Special case of linear model with $\\beta=0$."
   ]
  },
  {
   "cell_type": "code",
   "execution_count": null,
   "metadata": {},
   "outputs": [],
   "source": [
    "_BASE_URL = \"https://raw.githubusercontent.com/rmcelreath/rethinking/Experimental/data\"\n",
    "HOWELL_DATASET_PATH = f\"{_BASE_URL}/Howell1.csv\"\n",
    "d = pd.read_csv(HOWELL_DATASET_PATH, sep=';', header=0)\n",
    "d=d[d.age>=18] #just adults \n",
    "d.head()"
   ]
  },
  {
   "attachments": {},
   "cell_type": "markdown",
   "metadata": {},
   "source": [
    "## Task 1. Prior predictive checks"
   ]
  },
  {
   "cell_type": "code",
   "execution_count": null,
   "metadata": {},
   "outputs": [],
   "source": [
    "model_ppc=CmdStanModel(stan_file='/home/lab4/height_1_ppc.stan')\n",
    "\n",
    "R = 1000\n",
    "sim=model_ppc.sample(iter_sampling=R,\n",
    "                     iter_warmup=0,\n",
    "                     chains=1,\n",
    "                     fixed_param=True,\n",
    "                     seed=29042020,refresh=R)"
   ]
  },
  {
   "attachments": {},
   "cell_type": "markdown",
   "metadata": {},
   "source": [
    "\n",
    "\n",
    "1. Plot histograms of mu, sigma and simulated height.\n",
    "2. Plot a joint distribution of mu and sigma.\n",
    "3. Check if samples are consistent with priors.\n",
    "4. Correct prior parameters to make them reasonably spreaded out. \n",
    "5. Check if observed data is possible to obtain using priors."
   ]
  },
  {
   "attachments": {},
   "cell_type": "markdown",
   "metadata": {},
   "source": [
    "**Task 1**"
   ]
  },
  {
   "cell_type": "code",
   "execution_count": 36,
   "metadata": {},
   "outputs": [
    {
     "data": {
      "text/html": [
       "<div>\n",
       "<style scoped>\n",
       "    .dataframe tbody tr th:only-of-type {\n",
       "        vertical-align: middle;\n",
       "    }\n",
       "\n",
       "    .dataframe tbody tr th {\n",
       "        vertical-align: top;\n",
       "    }\n",
       "\n",
       "    .dataframe thead th {\n",
       "        text-align: right;\n",
       "    }\n",
       "</style>\n",
       "<table border=\"1\" class=\"dataframe\">\n",
       "  <thead>\n",
       "    <tr style=\"text-align: right;\">\n",
       "      <th></th>\n",
       "      <th>lp__</th>\n",
       "      <th>accept_stat__</th>\n",
       "      <th>alpha</th>\n",
       "      <th>beta</th>\n",
       "      <th>sigma</th>\n",
       "      <th>height[1]</th>\n",
       "      <th>height[2]</th>\n",
       "      <th>height[3]</th>\n",
       "      <th>height[4]</th>\n",
       "      <th>height[5]</th>\n",
       "      <th>...</th>\n",
       "      <th>height[41]</th>\n",
       "      <th>height[42]</th>\n",
       "      <th>height[43]</th>\n",
       "      <th>height[44]</th>\n",
       "      <th>height[45]</th>\n",
       "      <th>height[46]</th>\n",
       "      <th>height[47]</th>\n",
       "      <th>height[48]</th>\n",
       "      <th>height[49]</th>\n",
       "      <th>height[50]</th>\n",
       "    </tr>\n",
       "  </thead>\n",
       "  <tbody>\n",
       "    <tr>\n",
       "      <th>0</th>\n",
       "      <td>0.0</td>\n",
       "      <td>0.0</td>\n",
       "      <td>-0.203359</td>\n",
       "      <td>0.899524</td>\n",
       "      <td>0.019249</td>\n",
       "      <td>-12.7324</td>\n",
       "      <td>-12.1394</td>\n",
       "      <td>-11.5767</td>\n",
       "      <td>-10.9638</td>\n",
       "      <td>-10.4070</td>\n",
       "      <td>...</td>\n",
       "      <td>10.7209</td>\n",
       "      <td>11.2807</td>\n",
       "      <td>11.9080</td>\n",
       "      <td>12.4963</td>\n",
       "      <td>13.0962</td>\n",
       "      <td>13.6756</td>\n",
       "      <td>14.2370</td>\n",
       "      <td>14.7913</td>\n",
       "      <td>15.3936</td>\n",
       "      <td>15.9847</td>\n",
       "    </tr>\n",
       "    <tr>\n",
       "      <th>1</th>\n",
       "      <td>0.0</td>\n",
       "      <td>0.0</td>\n",
       "      <td>-0.203359</td>\n",
       "      <td>0.899524</td>\n",
       "      <td>0.109952</td>\n",
       "      <td>-12.7946</td>\n",
       "      <td>-12.1594</td>\n",
       "      <td>-11.3957</td>\n",
       "      <td>-10.7983</td>\n",
       "      <td>-10.4034</td>\n",
       "      <td>...</td>\n",
       "      <td>10.6061</td>\n",
       "      <td>11.4357</td>\n",
       "      <td>11.7945</td>\n",
       "      <td>12.4419</td>\n",
       "      <td>13.1350</td>\n",
       "      <td>13.9399</td>\n",
       "      <td>14.2293</td>\n",
       "      <td>14.7190</td>\n",
       "      <td>15.3867</td>\n",
       "      <td>15.8852</td>\n",
       "    </tr>\n",
       "    <tr>\n",
       "      <th>2</th>\n",
       "      <td>0.0</td>\n",
       "      <td>0.0</td>\n",
       "      <td>-0.203359</td>\n",
       "      <td>0.899524</td>\n",
       "      <td>0.016779</td>\n",
       "      <td>-12.7156</td>\n",
       "      <td>-12.1557</td>\n",
       "      <td>-11.5539</td>\n",
       "      <td>-10.9443</td>\n",
       "      <td>-10.3815</td>\n",
       "      <td>...</td>\n",
       "      <td>10.7219</td>\n",
       "      <td>11.3217</td>\n",
       "      <td>11.8921</td>\n",
       "      <td>12.4611</td>\n",
       "      <td>13.0789</td>\n",
       "      <td>13.6357</td>\n",
       "      <td>14.2309</td>\n",
       "      <td>14.8208</td>\n",
       "      <td>15.4333</td>\n",
       "      <td>15.9677</td>\n",
       "    </tr>\n",
       "    <tr>\n",
       "      <th>3</th>\n",
       "      <td>0.0</td>\n",
       "      <td>0.0</td>\n",
       "      <td>-0.203359</td>\n",
       "      <td>0.899524</td>\n",
       "      <td>0.015603</td>\n",
       "      <td>-12.7429</td>\n",
       "      <td>-12.1172</td>\n",
       "      <td>-11.5619</td>\n",
       "      <td>-10.9434</td>\n",
       "      <td>-10.3634</td>\n",
       "      <td>...</td>\n",
       "      <td>10.7175</td>\n",
       "      <td>11.3130</td>\n",
       "      <td>11.9014</td>\n",
       "      <td>12.5084</td>\n",
       "      <td>13.0399</td>\n",
       "      <td>13.6373</td>\n",
       "      <td>14.2247</td>\n",
       "      <td>14.7917</td>\n",
       "      <td>15.4127</td>\n",
       "      <td>15.9701</td>\n",
       "    </tr>\n",
       "    <tr>\n",
       "      <th>4</th>\n",
       "      <td>0.0</td>\n",
       "      <td>0.0</td>\n",
       "      <td>-0.203359</td>\n",
       "      <td>0.899524</td>\n",
       "      <td>0.082770</td>\n",
       "      <td>-12.6780</td>\n",
       "      <td>-12.1254</td>\n",
       "      <td>-11.5198</td>\n",
       "      <td>-10.8474</td>\n",
       "      <td>-10.4166</td>\n",
       "      <td>...</td>\n",
       "      <td>10.5846</td>\n",
       "      <td>11.2742</td>\n",
       "      <td>11.9263</td>\n",
       "      <td>12.3418</td>\n",
       "      <td>13.0650</td>\n",
       "      <td>13.5237</td>\n",
       "      <td>14.1411</td>\n",
       "      <td>14.8244</td>\n",
       "      <td>15.4575</td>\n",
       "      <td>15.9300</td>\n",
       "    </tr>\n",
       "    <tr>\n",
       "      <th>...</th>\n",
       "      <td>...</td>\n",
       "      <td>...</td>\n",
       "      <td>...</td>\n",
       "      <td>...</td>\n",
       "      <td>...</td>\n",
       "      <td>...</td>\n",
       "      <td>...</td>\n",
       "      <td>...</td>\n",
       "      <td>...</td>\n",
       "      <td>...</td>\n",
       "      <td>...</td>\n",
       "      <td>...</td>\n",
       "      <td>...</td>\n",
       "      <td>...</td>\n",
       "      <td>...</td>\n",
       "      <td>...</td>\n",
       "      <td>...</td>\n",
       "      <td>...</td>\n",
       "      <td>...</td>\n",
       "      <td>...</td>\n",
       "      <td>...</td>\n",
       "    </tr>\n",
       "    <tr>\n",
       "      <th>995</th>\n",
       "      <td>0.0</td>\n",
       "      <td>0.0</td>\n",
       "      <td>-0.203359</td>\n",
       "      <td>0.899524</td>\n",
       "      <td>0.054841</td>\n",
       "      <td>-12.7235</td>\n",
       "      <td>-12.1253</td>\n",
       "      <td>-11.5635</td>\n",
       "      <td>-11.0334</td>\n",
       "      <td>-10.2956</td>\n",
       "      <td>...</td>\n",
       "      <td>10.7555</td>\n",
       "      <td>11.2650</td>\n",
       "      <td>11.9649</td>\n",
       "      <td>12.4930</td>\n",
       "      <td>13.0661</td>\n",
       "      <td>13.6391</td>\n",
       "      <td>14.2949</td>\n",
       "      <td>14.8195</td>\n",
       "      <td>15.4385</td>\n",
       "      <td>15.9877</td>\n",
       "    </tr>\n",
       "    <tr>\n",
       "      <th>996</th>\n",
       "      <td>0.0</td>\n",
       "      <td>0.0</td>\n",
       "      <td>-0.203359</td>\n",
       "      <td>0.899524</td>\n",
       "      <td>0.082860</td>\n",
       "      <td>-12.8399</td>\n",
       "      <td>-12.1564</td>\n",
       "      <td>-11.5630</td>\n",
       "      <td>-10.8525</td>\n",
       "      <td>-10.1995</td>\n",
       "      <td>...</td>\n",
       "      <td>10.6971</td>\n",
       "      <td>11.4528</td>\n",
       "      <td>11.9655</td>\n",
       "      <td>12.4361</td>\n",
       "      <td>12.9311</td>\n",
       "      <td>13.7251</td>\n",
       "      <td>14.2318</td>\n",
       "      <td>14.8796</td>\n",
       "      <td>15.5268</td>\n",
       "      <td>16.0814</td>\n",
       "    </tr>\n",
       "    <tr>\n",
       "      <th>997</th>\n",
       "      <td>0.0</td>\n",
       "      <td>0.0</td>\n",
       "      <td>-0.203359</td>\n",
       "      <td>0.899524</td>\n",
       "      <td>0.046203</td>\n",
       "      <td>-12.7481</td>\n",
       "      <td>-12.1272</td>\n",
       "      <td>-11.5068</td>\n",
       "      <td>-10.9533</td>\n",
       "      <td>-10.3723</td>\n",
       "      <td>...</td>\n",
       "      <td>10.7436</td>\n",
       "      <td>11.2153</td>\n",
       "      <td>11.8512</td>\n",
       "      <td>12.5030</td>\n",
       "      <td>13.0707</td>\n",
       "      <td>13.6803</td>\n",
       "      <td>14.2243</td>\n",
       "      <td>14.9028</td>\n",
       "      <td>15.4496</td>\n",
       "      <td>15.9588</td>\n",
       "    </tr>\n",
       "    <tr>\n",
       "      <th>998</th>\n",
       "      <td>0.0</td>\n",
       "      <td>0.0</td>\n",
       "      <td>-0.203359</td>\n",
       "      <td>0.899524</td>\n",
       "      <td>0.035567</td>\n",
       "      <td>-12.7129</td>\n",
       "      <td>-12.1108</td>\n",
       "      <td>-11.5140</td>\n",
       "      <td>-10.9344</td>\n",
       "      <td>-10.3941</td>\n",
       "      <td>...</td>\n",
       "      <td>10.7589</td>\n",
       "      <td>11.2908</td>\n",
       "      <td>11.8583</td>\n",
       "      <td>12.5422</td>\n",
       "      <td>13.0622</td>\n",
       "      <td>13.6705</td>\n",
       "      <td>14.1503</td>\n",
       "      <td>14.8042</td>\n",
       "      <td>15.3935</td>\n",
       "      <td>15.9730</td>\n",
       "    </tr>\n",
       "    <tr>\n",
       "      <th>999</th>\n",
       "      <td>0.0</td>\n",
       "      <td>0.0</td>\n",
       "      <td>-0.203359</td>\n",
       "      <td>0.899524</td>\n",
       "      <td>0.141411</td>\n",
       "      <td>-12.8646</td>\n",
       "      <td>-12.2625</td>\n",
       "      <td>-11.4048</td>\n",
       "      <td>-10.9219</td>\n",
       "      <td>-10.2332</td>\n",
       "      <td>...</td>\n",
       "      <td>10.6366</td>\n",
       "      <td>11.0832</td>\n",
       "      <td>11.8022</td>\n",
       "      <td>12.3133</td>\n",
       "      <td>13.1368</td>\n",
       "      <td>13.6045</td>\n",
       "      <td>14.2893</td>\n",
       "      <td>14.7555</td>\n",
       "      <td>15.6175</td>\n",
       "      <td>16.1208</td>\n",
       "    </tr>\n",
       "  </tbody>\n",
       "</table>\n",
       "<p>1000 rows × 55 columns</p>\n",
       "</div>"
      ],
      "text/plain": [
       "     lp__  accept_stat__     alpha      beta     sigma  height[1]  height[2]  \\\n",
       "0     0.0            0.0 -0.203359  0.899524  0.019249   -12.7324   -12.1394   \n",
       "1     0.0            0.0 -0.203359  0.899524  0.109952   -12.7946   -12.1594   \n",
       "2     0.0            0.0 -0.203359  0.899524  0.016779   -12.7156   -12.1557   \n",
       "3     0.0            0.0 -0.203359  0.899524  0.015603   -12.7429   -12.1172   \n",
       "4     0.0            0.0 -0.203359  0.899524  0.082770   -12.6780   -12.1254   \n",
       "..    ...            ...       ...       ...       ...        ...        ...   \n",
       "995   0.0            0.0 -0.203359  0.899524  0.054841   -12.7235   -12.1253   \n",
       "996   0.0            0.0 -0.203359  0.899524  0.082860   -12.8399   -12.1564   \n",
       "997   0.0            0.0 -0.203359  0.899524  0.046203   -12.7481   -12.1272   \n",
       "998   0.0            0.0 -0.203359  0.899524  0.035567   -12.7129   -12.1108   \n",
       "999   0.0            0.0 -0.203359  0.899524  0.141411   -12.8646   -12.2625   \n",
       "\n",
       "     height[3]  height[4]  height[5]  ...  height[41]  height[42]  height[43]  \\\n",
       "0     -11.5767   -10.9638   -10.4070  ...     10.7209     11.2807     11.9080   \n",
       "1     -11.3957   -10.7983   -10.4034  ...     10.6061     11.4357     11.7945   \n",
       "2     -11.5539   -10.9443   -10.3815  ...     10.7219     11.3217     11.8921   \n",
       "3     -11.5619   -10.9434   -10.3634  ...     10.7175     11.3130     11.9014   \n",
       "4     -11.5198   -10.8474   -10.4166  ...     10.5846     11.2742     11.9263   \n",
       "..         ...        ...        ...  ...         ...         ...         ...   \n",
       "995   -11.5635   -11.0334   -10.2956  ...     10.7555     11.2650     11.9649   \n",
       "996   -11.5630   -10.8525   -10.1995  ...     10.6971     11.4528     11.9655   \n",
       "997   -11.5068   -10.9533   -10.3723  ...     10.7436     11.2153     11.8512   \n",
       "998   -11.5140   -10.9344   -10.3941  ...     10.7589     11.2908     11.8583   \n",
       "999   -11.4048   -10.9219   -10.2332  ...     10.6366     11.0832     11.8022   \n",
       "\n",
       "     height[44]  height[45]  height[46]  height[47]  height[48]  height[49]  \\\n",
       "0       12.4963     13.0962     13.6756     14.2370     14.7913     15.3936   \n",
       "1       12.4419     13.1350     13.9399     14.2293     14.7190     15.3867   \n",
       "2       12.4611     13.0789     13.6357     14.2309     14.8208     15.4333   \n",
       "3       12.5084     13.0399     13.6373     14.2247     14.7917     15.4127   \n",
       "4       12.3418     13.0650     13.5237     14.1411     14.8244     15.4575   \n",
       "..          ...         ...         ...         ...         ...         ...   \n",
       "995     12.4930     13.0661     13.6391     14.2949     14.8195     15.4385   \n",
       "996     12.4361     12.9311     13.7251     14.2318     14.8796     15.5268   \n",
       "997     12.5030     13.0707     13.6803     14.2243     14.9028     15.4496   \n",
       "998     12.5422     13.0622     13.6705     14.1503     14.8042     15.3935   \n",
       "999     12.3133     13.1368     13.6045     14.2893     14.7555     15.6175   \n",
       "\n",
       "     height[50]  \n",
       "0       15.9847  \n",
       "1       15.8852  \n",
       "2       15.9677  \n",
       "3       15.9701  \n",
       "4       15.9300  \n",
       "..          ...  \n",
       "995     15.9877  \n",
       "996     16.0814  \n",
       "997     15.9588  \n",
       "998     15.9730  \n",
       "999     16.1208  \n",
       "\n",
       "[1000 rows x 55 columns]"
      ]
     },
     "execution_count": 36,
     "metadata": {},
     "output_type": "execute_result"
    }
   ],
   "source": [
    "ex1 = sim.draws_pd()"
   ]
  },
  {
   "cell_type": "code",
   "execution_count": null,
   "metadata": {},
   "outputs": [],
   "source": [
    "mi_sim = ex1[\"mi\"]\n",
    "sigma_sim = ex1[\"sigma\"]\n",
    "height_sim = ex1[\"height_sim\"]"
   ]
  },
  {
   "cell_type": "code",
   "execution_count": null,
   "metadata": {},
   "outputs": [],
   "source": [
    "fig, ax = plt.subplots(ncols=3, figsize=(12, 4))\n",
    "ax[0].hist(mi_sim, bins=30)\n",
    "ax[0].set_xlabel(\"mi\")\n",
    "ax[0].set_ylabel(\"Frequency\")\n",
    "ax[1].hist(sigma_sim, bins=30)\n",
    "ax[1].set_xlabel(\"sigma\")\n",
    "ax[1].set_ylabel(\"Frequency\")\n",
    "ax[2].hist(height_sim, bins=30)\n",
    "ax[2].set_xlabel(\"Simulated Height\")\n",
    "ax[2].set_ylabel(\"Frequency\")\n",
    "plt.tight_layout()\n",
    "plt.show()"
   ]
  },
  {
   "attachments": {},
   "cell_type": "markdown",
   "metadata": {},
   "source": [
    "## Task 2. Model fit and evaluation"
   ]
  },
  {
   "cell_type": "code",
   "execution_count": null,
   "metadata": {},
   "outputs": [],
   "source": [
    "model_1_fit=CmdStanModel(stan_file='height_1_fit.stan')"
   ]
  },
  {
   "cell_type": "code",
   "execution_count": null,
   "metadata": {},
   "outputs": [],
   "source": [
    "fit=model_1_fit.sample(data=dict(N=len(d),\n",
    "                                   heights=d.height.values),\n",
    "                         seed=28052020)"
   ]
  },
  {
   "attachments": {},
   "cell_type": "markdown",
   "metadata": {},
   "source": [
    "***Task 2***"
   ]
  },
  {
   "cell_type": "code",
   "execution_count": null,
   "metadata": {},
   "outputs": [],
   "source": [
    "sns.jointplot(x = \"mi\", y = \"sigma\",\n",
    "              kind = \"reg\", data = ex1,\n",
    "              dropna = True)\n",
    "plt.xlabel(\"mi\")\n",
    "plt.ylabel(\"sigma\")\n",
    "plt.show()"
   ]
  },
  {
   "cell_type": "code",
   "execution_count": null,
   "metadata": {},
   "outputs": [],
   "source": [
    "samples = fit.draws()"
   ]
  },
  {
   "cell_type": "code",
   "execution_count": null,
   "metadata": {},
   "outputs": [],
   "source": [
    "fig, axs = plt.subplots(1, 2, figsize=(10, 4))\n",
    "\n",
    "axs[0].hist(d.height.values, bins=20, alpha=0.5)\n",
    "axs[0].set_title('Histogram of Data Heights')\n",
    "\n",
    "axs[1].hist(height_sim, bins=20, alpha=0.5)\n",
    "axs[1].set_title('Histogram of Simulated Heights')\n",
    "\n",
    "plt.show()"
   ]
  },
  {
   "attachments": {},
   "cell_type": "markdown",
   "metadata": {},
   "source": [
    "\n",
    "1. Plot a joint distribution of fitted mu and sigma.\n",
    "2. Plot histograms of data and simulated heights and evaluate the quality of model.\n"
   ]
  },
  {
   "attachments": {},
   "cell_type": "markdown",
   "metadata": {},
   "source": [
    "## Task 3. Adding predictor to the model - weight\n",
    "\n",
    "Create column ```c_weight``` in the dataframe containing weights substrated by their mean.\n"
   ]
  },
  {
   "cell_type": "code",
   "execution_count": 16,
   "metadata": {},
   "outputs": [],
   "source": [
    "d['c_weight'] = d['weight'] - d['weight'].mean()\n",
    "data_sim={'N':50, 'weight':np.linspace(d.c_weight.min(),d.c_weight.max())}\n"
   ]
  },
  {
   "attachments": {},
   "cell_type": "markdown",
   "metadata": {},
   "source": [
    "***Task 3***"
   ]
  },
  {
   "attachments": {},
   "cell_type": "markdown",
   "metadata": {},
   "source": [
    "## Task 4. Prior predictive checks\n",
    " "
   ]
  },
  {
   "cell_type": "code",
   "execution_count": 54,
   "metadata": {},
   "outputs": [
    {
     "name": "stderr",
     "output_type": "stream",
     "text": [
      "INFO:cmdstanpy:found newer exe file, not recompiling\n",
      "INFO:cmdstanpy:CmdStan start processing\n",
      "chain 1 |\u001b[34m██████████\u001b[0m| 00:00 Sampling completed"
     ]
    },
    {
     "name": "stdout",
     "output_type": "stream",
     "text": [
      "                                                                                "
     ]
    },
    {
     "name": "stderr",
     "output_type": "stream",
     "text": [
      "\n",
      "INFO:cmdstanpy:CmdStan done processing.\n"
     ]
    },
    {
     "name": "stdout",
     "output_type": "stream",
     "text": [
      "\n"
     ]
    }
   ],
   "source": [
    "model_ppc=CmdStanModel(stan_file='/home/lab4/height_2a_ppc.stan')\n",
    "R = 1000\n",
    "sim=model_ppc.sample(data=data_sim, \n",
    "                     iter_sampling=R, \n",
    "                     iter_warmup=0, \n",
    "                     chains=1, \n",
    "                     refresh=R,\n",
    "                     fixed_param=True,\n",
    "                     seed=29042020)"
   ]
  },
  {
   "cell_type": "code",
   "execution_count": 56,
   "metadata": {},
   "outputs": [],
   "source": [
    "ex2 = sim.draws_pd()"
   ]
  },
  {
   "attachments": {},
   "cell_type": "markdown",
   "metadata": {},
   "source": [
    "Plot lines for each sampled slope beta and intercept alpha, verify if possible predicted heights are consistent with minimum (0) and maximum (check Wikipedia) heights observed in nature."
   ]
  },
  {
   "attachments": {},
   "cell_type": "markdown",
   "metadata": {},
   "source": [
    "## Task 5. Modifying prior\n",
    "\n",
    "If prior for beta admits negative values, then it makes no sense. Lets change prior to lognormal distribution.\n"
   ]
  },
  {
   "cell_type": "code",
   "execution_count": null,
   "metadata": {},
   "outputs": [],
   "source": [
    "model_ppc=CmdStanModel(stan_file='height_2b_ppc.stan')"
   ]
  },
  {
   "cell_type": "code",
   "execution_count": null,
   "metadata": {},
   "outputs": [],
   "source": [
    "sim=model_ppc.sample(data=data_sim, \n",
    "                     iter_sampling=R, \n",
    "                     iter_warmup=0, \n",
    "                     chains=1, \n",
    "                     refresh=R,\n",
    "                     fixed_param=True,\n",
    "                     seed=29042020)"
   ]
  },
  {
   "attachments": {},
   "cell_type": "markdown",
   "metadata": {},
   "source": [
    "1. Plot lines for each sampled slope beta and intercept alpha, verify if possible predicted heights are consistent with minimum (0) and maximum (check Wikipedia) heights observed in nature.\n",
    "2. For each simulated weight plot maximum, minimum, and 5, 25, 50, 75, 95 quantiles of simulated weight (all in the same plot). Compare with observed data. Is observed data possible within the prior model?"
   ]
  },
  {
   "attachments": {},
   "cell_type": "markdown",
   "metadata": {},
   "source": [
    "## Task 6. Fitting and evaluating model\n"
   ]
  },
  {
   "cell_type": "code",
   "execution_count": null,
   "metadata": {},
   "outputs": [],
   "source": [
    "model_2_fit=CmdStanModel(stan_file='height_2_fit.stan')"
   ]
  },
  {
   "attachments": {},
   "cell_type": "markdown",
   "metadata": {},
   "source": [
    "1. Create ```data_fit``` dictionary containing data from  ```N``` first rows of dataframe\n"
   ]
  },
  {
   "cell_type": "code",
   "execution_count": null,
   "metadata": {},
   "outputs": [],
   "source": [
    "fit=model_2_fit.sample(data=data_fit,seed=28052020)\n"
   ]
  },
  {
   "attachments": {},
   "cell_type": "markdown",
   "metadata": {},
   "source": [
    "2. Plot lines for each sampled slope beta and intercept alpha. Verify how uncertainity changes with increasing of sample (N)\n",
    "2. For each value of weight plot mean simulated height along with errorbar of one standard deviation (use ```errorbar``` from matplotlib). Compare with observed data (N points). Is observed data possible within the posterior model? What changes when N increases.\n"
   ]
  },
  {
   "attachments": {},
   "cell_type": "markdown",
   "metadata": {},
   "source": [
    "## Task 7. Extending the model\n",
    "\n",
    "1. Center the weight data (substract mean vaule of weight from all values). Test how model works for such data. What is the interpretation of $\\alpha$ in such case?\n",
    "2. Using centered data modify your model with a second power of weight, select prior for its coefficient using prior predictive checks and after fitting check if model is still good.\n",
    "3. Try to vectorize the model to avoid necessity of a for loop in the ```model``` block. "
   ]
  },
  {
   "cell_type": "markdown",
   "metadata": {},
   "source": []
  }
 ],
 "metadata": {
  "kernelspec": {
   "display_name": "Python 3",
   "language": "python",
   "name": "python3"
  },
  "language_info": {
   "codemirror_mode": {
    "name": "ipython",
    "version": 3
   },
   "file_extension": ".py",
   "mimetype": "text/x-python",
   "name": "python",
   "nbconvert_exporter": "python",
   "pygments_lexer": "ipython3",
   "version": "3.9.11"
  },
  "vscode": {
   "interpreter": {
    "hash": "949777d72b0d2535278d3dc13498b2535136f6dfe0678499012e853ee9abcab1"
   }
  }
 },
 "nbformat": 4,
 "nbformat_minor": 2
}
